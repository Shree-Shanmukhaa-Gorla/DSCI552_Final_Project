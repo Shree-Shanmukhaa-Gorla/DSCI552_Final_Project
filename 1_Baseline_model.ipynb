{
 "cells": [
  {
   "cell_type": "markdown",
   "metadata": {},
   "source": [
    "## Importing Libraries"
   ]
  },
  {
   "cell_type": "code",
   "execution_count": 1,
   "metadata": {},
   "outputs": [],
   "source": [
    "import pandas as pd\n",
    "import numpy as np\n",
    "import matplotlib.pyplot as plt\n",
    "\n",
    "from sklearn.feature_extraction.text import TfidfVectorizer, CountVectorizer\n",
    "from sklearn.naive_bayes import MultinomialNB\n",
    "from sklearn import metrics\n",
    "\n",
    "%matplotlib inline"
   ]
  },
  {
   "cell_type": "markdown",
   "metadata": {},
   "source": [
    "## Getting the data"
   ]
  },
  {
   "cell_type": "code",
   "execution_count": 2,
   "metadata": {},
   "outputs": [
    {
     "data": {
      "text/html": [
       "<div>\n",
       "<style scoped>\n",
       "    .dataframe tbody tr th:only-of-type {\n",
       "        vertical-align: middle;\n",
       "    }\n",
       "\n",
       "    .dataframe tbody tr th {\n",
       "        vertical-align: top;\n",
       "    }\n",
       "\n",
       "    .dataframe thead th {\n",
       "        text-align: right;\n",
       "    }\n",
       "</style>\n",
       "<table border=\"1\" class=\"dataframe\">\n",
       "  <thead>\n",
       "    <tr style=\"text-align: right;\">\n",
       "      <th></th>\n",
       "      <th>Sentence</th>\n",
       "      <th>Presence</th>\n",
       "    </tr>\n",
       "  </thead>\n",
       "  <tbody>\n",
       "    <tr>\n",
       "      <th>0</th>\n",
       "      <td>Help me!</td>\n",
       "      <td>1</td>\n",
       "    </tr>\n",
       "    <tr>\n",
       "      <th>1</th>\n",
       "      <td>Help me!</td>\n",
       "      <td>1</td>\n",
       "    </tr>\n",
       "    <tr>\n",
       "      <th>2</th>\n",
       "      <td>\"Front desk clerk Shawna Vela said she dialed ...</td>\n",
       "      <td>0</td>\n",
       "    </tr>\n",
       "    <tr>\n",
       "      <th>3</th>\n",
       "      <td>I've been shot,' \" said Rosalinda Gonzalez, an...</td>\n",
       "      <td>0</td>\n",
       "    </tr>\n",
       "    <tr>\n",
       "      <th>4</th>\n",
       "      <td>Mid-Market and the Tenderloin are home to a th...</td>\n",
       "      <td>1</td>\n",
       "    </tr>\n",
       "    <tr>\n",
       "      <th>...</th>\n",
       "      <td>...</td>\n",
       "      <td>...</td>\n",
       "    </tr>\n",
       "    <tr>\n",
       "      <th>20181</th>\n",
       "      <td>I'd flip open a cell phone, turn on its camera...</td>\n",
       "      <td>1</td>\n",
       "    </tr>\n",
       "    <tr>\n",
       "      <th>20182</th>\n",
       "      <td>.</td>\n",
       "      <td>0</td>\n",
       "    </tr>\n",
       "    <tr>\n",
       "      <th>20183</th>\n",
       "      <td>)The biggest challenge in documenting my dinin...</td>\n",
       "      <td>0</td>\n",
       "    </tr>\n",
       "    <tr>\n",
       "      <th>20184</th>\n",
       "      <td>Ahumdinger TV season wrapped Wednesday night, ...</td>\n",
       "      <td>1</td>\n",
       "    </tr>\n",
       "    <tr>\n",
       "      <th>20185</th>\n",
       "      <td>\"The O.C.,\" which also enjoyed a post-\"Idol\" r...</td>\n",
       "      <td>0</td>\n",
       "    </tr>\n",
       "  </tbody>\n",
       "</table>\n",
       "<p>20186 rows × 2 columns</p>\n",
       "</div>"
      ],
      "text/plain": [
       "                                                Sentence  Presence\n",
       "0                                               Help me!         1\n",
       "1                                               Help me!         1\n",
       "2      \"Front desk clerk Shawna Vela said she dialed ...         0\n",
       "3      I've been shot,' \" said Rosalinda Gonzalez, an...         0\n",
       "4      Mid-Market and the Tenderloin are home to a th...         1\n",
       "...                                                  ...       ...\n",
       "20181  I'd flip open a cell phone, turn on its camera...         1\n",
       "20182                                                  .         0\n",
       "20183  )The biggest challenge in documenting my dinin...         0\n",
       "20184  Ahumdinger TV season wrapped Wednesday night, ...         1\n",
       "20185  \"The O.C.,\" which also enjoyed a post-\"Idol\" r...         0\n",
       "\n",
       "[20186 rows x 2 columns]"
      ]
     },
     "execution_count": 2,
     "metadata": {},
     "output_type": "execute_result"
    }
   ],
   "source": [
    "df = pd.read_json('content_baseline.json')\n",
    "df"
   ]
  },
  {
   "cell_type": "markdown",
   "metadata": {},
   "source": [
    "## Creating the training and test set"
   ]
  },
  {
   "cell_type": "code",
   "execution_count": 3,
   "metadata": {},
   "outputs": [],
   "source": [
    "X = df['Sentence']\n",
    "y = df['Presence']"
   ]
  },
  {
   "cell_type": "code",
   "execution_count": 4,
   "metadata": {},
   "outputs": [],
   "source": [
    "from sklearn.model_selection import train_test_split\n",
    "\n",
    "X_train, X_test, y_train, y_test = train_test_split(X,y, test_size = 0.2, random_state=42)"
   ]
  },
  {
   "cell_type": "code",
   "execution_count": 5,
   "metadata": {},
   "outputs": [
    {
     "name": "stdout",
     "output_type": "stream",
     "text": [
      "X_train shape (16148,)\n",
      "X_test shape (4038,)\n",
      "y_train shape (16148,)\n",
      "y_test shape (4038,)\n"
     ]
    }
   ],
   "source": [
    "print(\"X_train shape\",X_train.shape)\n",
    "print(\"X_test shape\",X_test.shape)\n",
    "print(\"y_train shape\",y_train.shape)\n",
    "print(\"y_test shape\",y_test.shape)"
   ]
  },
  {
   "cell_type": "markdown",
   "metadata": {},
   "source": [
    "# Since this is the main dataset, we shall take the X_test, y_test as the main test data to run on all the models we create. \n",
    "\n",
    "# We shall us the X_train, y_train as the main training data. We will split this into train and test/validation set to and create a TF-IDF based Naive Bayes Model, use the test as the validation set and the Original test data as the test set and calculate the accuracy. We shall do the same for the other models too. "
   ]
  },
  {
   "cell_type": "markdown",
   "metadata": {},
   "source": [
    "## 1. TF-IDF based Naive Bayes Classifier"
   ]
  },
  {
   "cell_type": "markdown",
   "metadata": {},
   "source": [
    "### Using X_train and y_train. Assign them to temporary variables and use those temporary variables x_1, y_1 respectively. 1 indicates the model number we are trying. "
   ]
  },
  {
   "cell_type": "code",
   "execution_count": 6,
   "metadata": {},
   "outputs": [],
   "source": [
    "X_1 = X_train\n",
    "y_1 = y_train"
   ]
  },
  {
   "cell_type": "code",
   "execution_count": 7,
   "metadata": {},
   "outputs": [],
   "source": [
    "X_1_train, X_1_val, y_1_train, y_1_val = train_test_split(X_1, y_1, test_size=0.2, random_state=42)"
   ]
  },
  {
   "cell_type": "code",
   "execution_count": 8,
   "metadata": {},
   "outputs": [
    {
     "name": "stdout",
     "output_type": "stream",
     "text": [
      "X_1_train shape (12918,)\n",
      "X_1_val shape (3230,)\n",
      "y_1_train shape (12918,)\n",
      "y_1_val shape (3230,)\n"
     ]
    }
   ],
   "source": [
    "print(\"X_1_train shape\",X_1_train.shape)\n",
    "print(\"X_1_val shape\",X_1_val.shape)\n",
    "print(\"y_1_train shape\",y_1_train.shape)\n",
    "print(\"y_1_val shape\",y_1_val.shape)"
   ]
  },
  {
   "cell_type": "code",
   "execution_count": 9,
   "metadata": {},
   "outputs": [],
   "source": [
    "#Applying tf-idf vectorizer to train data\n",
    "tfidf_vectorizer = TfidfVectorizer()\n",
    "\n",
    "X_1_train_tfidf = tfidf_vectorizer.fit_transform(X_1_train)"
   ]
  },
  {
   "cell_type": "code",
   "execution_count": 10,
   "metadata": {},
   "outputs": [],
   "source": [
    "#Applying the tf-idf vectorizer to validation data\n",
    "\n",
    "X_1_val_tfidf = tfidf_vectorizer.transform(X_1_val)"
   ]
  },
  {
   "cell_type": "code",
   "execution_count": 11,
   "metadata": {},
   "outputs": [
    {
     "data": {
      "text/plain": [
       "MultinomialNB(alpha=1.0, class_prior=None, fit_prior=True)"
      ]
     },
     "execution_count": 11,
     "metadata": {},
     "output_type": "execute_result"
    }
   ],
   "source": [
    "#Applying Naive Bayes to the train data.\n",
    "\n",
    "naive_bayes_classifier = MultinomialNB()\n",
    "naive_bayes_classifier.fit(X_1_train_tfidf, y_1_train)"
   ]
  },
  {
   "cell_type": "code",
   "execution_count": 14,
   "metadata": {},
   "outputs": [
    {
     "name": "stdout",
     "output_type": "stream",
     "text": [
      "Accuracy on the validation set: 0.583\n"
     ]
    }
   ],
   "source": [
    "#Calculating accuracy and the classification report from the test data\n",
    "\n",
    "y_pred = naive_bayes_classifier.predict(X_1_val_tfidf)\n",
    "\n",
    "score = metrics.accuracy_score(y_1_val, y_pred)\n",
    "print(\"Accuracy on the validation set: %0.3f\" %score)"
   ]
  },
  {
   "cell_type": "code",
   "execution_count": 15,
   "metadata": {},
   "outputs": [
    {
     "name": "stdout",
     "output_type": "stream",
     "text": [
      "              precision    recall  f1-score   support\n",
      "\n",
      "    Positive       0.55      0.83      0.66      1595\n",
      "    Negative       0.68      0.34      0.45      1635\n",
      "\n",
      "    accuracy                           0.58      3230\n",
      "   macro avg       0.61      0.59      0.56      3230\n",
      "weighted avg       0.61      0.58      0.56      3230\n",
      "\n"
     ]
    }
   ],
   "source": [
    "#Classification Report\n",
    "\n",
    "print(metrics.classification_report(y_1_val, y_pred, target_names=['Positive', 'Negative']))"
   ]
  },
  {
   "cell_type": "markdown",
   "metadata": {},
   "source": [
    "## We have got an accuracy of 58.3% on the validation set. Let us run this model on the original test set and see the accuracy. "
   ]
  },
  {
   "cell_type": "code",
   "execution_count": 16,
   "metadata": {},
   "outputs": [],
   "source": [
    "# We first have to convert the test set to a tfidf vector. \n",
    "\n",
    "X_1_test_tfidf = tfidf_vectorizer.transform(X_test)"
   ]
  },
  {
   "cell_type": "code",
   "execution_count": 18,
   "metadata": {},
   "outputs": [
    {
     "name": "stdout",
     "output_type": "stream",
     "text": [
      "Accuracy on the validation set: 0.587\n"
     ]
    }
   ],
   "source": [
    "# Predicting on the Naive Bayes classifier\n",
    "\n",
    "y_1_test_pred = naive_bayes_classifier.predict(X_1_test_tfidf)\n",
    "\n",
    "score_test = metrics.accuracy_score(y_test, y_1_test_pred)\n",
    "print(\"Accuracy on the validation set: %0.3f\" %score_test)"
   ]
  },
  {
   "cell_type": "code",
   "execution_count": 19,
   "metadata": {},
   "outputs": [
    {
     "name": "stdout",
     "output_type": "stream",
     "text": [
      "              precision    recall  f1-score   support\n",
      "\n",
      "    Positive       0.56      0.83      0.67      2015\n",
      "    Negative       0.67      0.35      0.46      2023\n",
      "\n",
      "    accuracy                           0.59      4038\n",
      "   macro avg       0.61      0.59      0.56      4038\n",
      "weighted avg       0.61      0.59      0.56      4038\n",
      "\n"
     ]
    }
   ],
   "source": [
    "#Classification Report\n",
    "\n",
    "print(metrics.classification_report(y_test, y_1_test_pred, target_names=['Positive', 'Negative']))"
   ]
  },
  {
   "cell_type": "markdown",
   "metadata": {},
   "source": [
    "## We can see that on the main test set, the accuracy is 59%. So this is the baseline model."
   ]
  },
  {
   "cell_type": "markdown",
   "metadata": {},
   "source": [
    "https://iq.opengenus.org/naive-bayes-on-tf-idf-vectorized-matrix/\n",
    "\n",
    "https://github.com/gabrieltseng/datascience-projects/tree/master/natural_language_processing/detecting_bullies\n",
    "   \n",
    "https://edumunozsala.github.io/BlogEms/jupyter/nlp/classification/embeddings/python/2020/08/15/Intro_NLP_WordEmbeddings_Classification.html"
   ]
  }
 ],
 "metadata": {
  "kernelspec": {
   "display_name": "Python 3",
   "language": "python",
   "name": "python3"
  },
  "language_info": {
   "codemirror_mode": {
    "name": "ipython",
    "version": 3
   },
   "file_extension": ".py",
   "mimetype": "text/x-python",
   "name": "python",
   "nbconvert_exporter": "python",
   "pygments_lexer": "ipython3",
   "version": "3.7.6"
  }
 },
 "nbformat": 4,
 "nbformat_minor": 4
}
